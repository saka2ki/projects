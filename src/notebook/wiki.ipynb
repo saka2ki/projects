{
 "cells": [
  {
   "cell_type": "code",
   "id": "initial_id",
   "metadata": {
    "collapsed": true,
    "ExecuteTime": {
     "end_time": "2025-05-09T06:37:26.720739Z",
     "start_time": "2025-05-09T06:35:11.383210Z"
    }
   },
   "source": [
    "import os\n",
    "import json\n",
    "import re\n",
    "import src.notebook.path as path\n",
    "output_file = path.wiki\n",
    "root_dir = '../data/text'\n",
    "\n",
    "# メモリ効率よくファイルを逐次的に処理\n",
    "with open(output_file, 'w', encoding='utf-8') as json_file:\n",
    "    #json_file.write('[')  # JSON配列の開始\n",
    "    first_entry = True\n",
    "\n",
    "    # root_dir内のすべてのサブディレクトリとファイルを探す\n",
    "    for dirpath, _, filenames in os.walk(root_dir):\n",
    "        for filename in filenames:\n",
    "            file_path = os.path.join(dirpath, filename)\n",
    "            #json_file.write('[')\n",
    "            #first_entry = True\n",
    "\n",
    "            # ファイルを開いて、内容を処理\n",
    "            with open(file_path, 'r', encoding='utf-8') as f:\n",
    "                content = re.sub(r'\\b(\\w+)\\b(?:\\n{2,})\\1\\b', r'\\1', f.read())\n",
    "\n",
    "                content = re.sub(r'\\n.*?\\.', r'', content, re.MULTILINE)\n",
    "\n",
    "                content = re.sub(r'\\n', '', content)\n",
    "\n",
    "                # docタグごとにJSONに変換\n",
    "                docs = re.findall(r'<doc.*?>(.*?)</doc>', content, re.DOTALL)\n",
    "                for doc in docs:\n",
    "                    if not first_entry:\n",
    "                        json_file.write('\\n')  # 最初のエントリでない場合はカンマを付ける\n",
    "                    json.dump({\"text\": doc.strip()}, json_file, ensure_ascii=False)\n",
    "                    first_entry = False\n",
    "            #json_file.write(']')\n",
    "            #break\n",
    "    #json_file.write(']')  # JSON配列の終了\n"
   ],
   "outputs": [],
   "execution_count": 11
  },
  {
   "metadata": {
    "ExecuteTime": {
     "end_time": "2025-05-09T06:38:39.514139Z",
     "start_time": "2025-05-09T06:37:26.786410Z"
    }
   },
   "cell_type": "code",
   "source": [
    "import json\n",
    "import src.notebook.path as path\n",
    "\n",
    "output_file = path.wiki_batched\n",
    "with open(output_file, 'w', encoding='utf-8') as json_file:\n",
    "    stack = \"\"\n",
    "    with open(path.wiki, 'r', encoding='utf-8') as f:\n",
    "        for line in f:\n",
    "            data = json.loads(line)\n",
    "            if len(data[\"text\"]) <= 10: continue\n",
    "            elif len(data[\"text\"]) <= 512:\n",
    "                stack += data[\"text\"] + \"<pad>\"\n",
    "                if len(stack) > 512:\n",
    "                    json.dump({\"text\": stack}, json_file, ensure_ascii=False)\n",
    "                    json_file.write('\\n')\n",
    "                    stack = \"\"\n",
    "            elif len(data[\"text\"]) > 1024:\n",
    "                split_index = [0]\n",
    "                split_num = len(data[\"text\"]) // 1024 + 1\n",
    "                split_size = len(data[\"text\"]) // split_num\n",
    "                for i in range(split_num-1):\n",
    "                    split_index.append(data[\"text\"].rfind(\"。\", split_index[i], split_index[i] + split_size)+1)\n",
    "                    json.dump({\"text\": data[\"text\"][split_index[i]:split_index[i+1]]}, json_file, ensure_ascii=False)\n",
    "                    json_file.write('\\n')\n",
    "                json.dump({\"text\": data[\"text\"][split_index[-1]:]}, json_file, ensure_ascii=False)\n",
    "                json_file.write('\\n')\n",
    "            else:\n",
    "                json.dump({\"text\": data[\"text\"]}, json_file, ensure_ascii=False)\n",
    "                json_file.write('\\n')\n",
    "            #break"
   ],
   "id": "fe1c45da2c4ee1b2",
   "outputs": [],
   "execution_count": 12
  }
 ],
 "metadata": {
  "kernelspec": {
   "display_name": "Python 3",
   "language": "python",
   "name": "python3"
  },
  "language_info": {
   "codemirror_mode": {
    "name": "ipython",
    "version": 2
   },
   "file_extension": ".py",
   "mimetype": "text/x-python",
   "name": "python",
   "nbconvert_exporter": "python",
   "pygments_lexer": "ipython2",
   "version": "2.7.6"
  }
 },
 "nbformat": 4,
 "nbformat_minor": 5
}
