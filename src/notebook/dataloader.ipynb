{
 "cells": [
  {
   "metadata": {
    "ExecuteTime": {
     "end_time": "2025-05-10T15:16:50.318360Z",
     "start_time": "2025-05-10T15:16:41.781239Z"
    }
   },
   "cell_type": "code",
   "source": [
    "import json\n",
    "import src.notebook.path as path\n",
    "from src.notebook.charTokenizer import CharTokenizer\n",
    "from src.notebook.dataloader import JPNDataset\n",
    "from torch.utils.data import DataLoader\n",
    "\n",
    "tokenizer = CharTokenizer()\n",
    "with open(path.charTokenizer, 'r', encoding='utf-8') as f:\n",
    "    tokenizer.vocab = json.load(f)"
   ],
   "id": "70006e0a0868d253",
   "outputs": [],
   "execution_count": 1
  },
  {
   "metadata": {
    "ExecuteTime": {
     "end_time": "2025-05-10T15:25:49.732110Z",
     "start_time": "2025-05-10T15:16:50.541915Z"
    }
   },
   "cell_type": "code",
   "source": [
    "max_length = 1024\n",
    "dataset = JPNDataset(path.wiki, tokenizer, max_length=max_length)\n",
    "dataloader = DataLoader(dataset, batch_size=16, shuffle=True)"
   ],
   "id": "1f9c017a6e1c713a",
   "outputs": [],
   "execution_count": 2
  },
  {
   "metadata": {
    "ExecuteTime": {
     "end_time": "2025-05-10T15:25:50.679855Z",
     "start_time": "2025-05-10T15:25:49.904222Z"
    }
   },
   "cell_type": "code",
   "source": [
    "import torch\n",
    "torch.save(dataset, f\"../data/dataset_{max_length}.pt\")"
   ],
   "id": "cf2ccacac8468ae5",
   "outputs": [],
   "execution_count": 3
  },
  {
   "metadata": {
    "ExecuteTime": {
     "end_time": "2025-05-10T15:25:51.220876Z",
     "start_time": "2025-05-10T15:25:50.690884Z"
    }
   },
   "cell_type": "code",
   "source": [
    "batch = next(iter(dataloader))\n",
    "print(batch)"
   ],
   "id": "a55bd72c4723406e",
   "outputs": [
    {
     "name": "stdout",
     "output_type": "stream",
     "text": [
      "tensor([[1037, 1638,  703,  ...,    0,    0,    0],\n",
      "        [ 574,  181,   73,  ...,  262,  270,  211],\n",
      "        [ 245,  568,  686,  ...,    0,    0,    0],\n",
      "        ...,\n",
      "        [ 294, 1356, 1506,  ...,    0,    0,    0],\n",
      "        [ 193,  154,  229,  ...,    0,    0,    0],\n",
      "        [ 232,  243,  176,  ...,    0,    0,    0]])\n"
     ]
    }
   ],
   "execution_count": 4
  }
 ],
 "metadata": {
  "kernelspec": {
   "display_name": "Python 3",
   "language": "python",
   "name": "python3"
  },
  "language_info": {
   "codemirror_mode": {
    "name": "ipython",
    "version": 2
   },
   "file_extension": ".py",
   "mimetype": "text/x-python",
   "name": "python",
   "nbconvert_exporter": "python",
   "pygments_lexer": "ipython2",
   "version": "2.7.6"
  }
 },
 "nbformat": 4,
 "nbformat_minor": 5
}
