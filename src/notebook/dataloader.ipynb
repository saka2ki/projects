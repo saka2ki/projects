{
 "cells": [
  {
   "metadata": {
    "ExecuteTime": {
     "end_time": "2025-05-09T07:16:44.920895Z",
     "start_time": "2025-05-09T07:16:44.904648Z"
    }
   },
   "cell_type": "code",
   "source": [
    "import json\n",
    "import src.notebook.path as path\n",
    "from src.notebook.charTokenizer import CharTokenizer\n",
    "from src.notebook.dataloader import JPNDataset\n",
    "from torch.utils.data import DataLoader\n",
    "\n",
    "tokenizer = CharTokenizer()\n",
    "with open(path.charTokenizer, 'r', encoding='utf-8') as f:\n",
    "    tokenizer.vocab = json.load(f)"
   ],
   "id": "70006e0a0868d253",
   "outputs": [],
   "execution_count": 2
  },
  {
   "metadata": {
    "ExecuteTime": {
     "end_time": "2025-05-09T07:19:29.318437Z",
     "start_time": "2025-05-09T07:16:44.952671Z"
    }
   },
   "cell_type": "code",
   "source": [
    "max_length = 1024\n",
    "dataset = JPNDataset(path.wiki, tokenizer, max_length=max_length)\n",
    "dataloader = DataLoader(dataset, batch_size=64, shuffle=True)"
   ],
   "id": "1f9c017a6e1c713a",
   "outputs": [],
   "execution_count": 3
  },
  {
   "metadata": {
    "ExecuteTime": {
     "end_time": "2025-05-09T07:19:30.164027Z",
     "start_time": "2025-05-09T07:19:29.350113Z"
    }
   },
   "cell_type": "code",
   "source": [
    "import torch\n",
    "torch.save(dataset, f\"../data/dataset_{max_length}.pt\")"
   ],
   "id": "cf2ccacac8468ae5",
   "outputs": [],
   "execution_count": 4
  },
  {
   "metadata": {
    "ExecuteTime": {
     "end_time": "2025-05-09T07:19:30.612591Z",
     "start_time": "2025-05-09T07:19:30.179958Z"
    }
   },
   "cell_type": "code",
   "source": [
    "batch = next(iter(dataloader))\n",
    "print(batch)"
   ],
   "id": "a55bd72c4723406e",
   "outputs": [
    {
     "name": "stdout",
     "output_type": "stream",
     "text": [
      "tensor([[1246,   27, 1095,  ...,    0,    0,    0],\n",
      "        [ 298,  189,  185,  ...,    0,    0,    0],\n",
      "        [1121,  471,  334,  ...,    0,    0,    0],\n",
      "        ...,\n",
      "        [  21,   37,   45,  ...,   37,   45,  568],\n",
      "        [1107,  540, 1040,  ...,    0,    0,    0],\n",
      "        [ 199,  304,  346,  ...,    0,    0,    0]])\n"
     ]
    }
   ],
   "execution_count": 5
  }
 ],
 "metadata": {
  "kernelspec": {
   "display_name": "Python 3",
   "language": "python",
   "name": "python3"
  },
  "language_info": {
   "codemirror_mode": {
    "name": "ipython",
    "version": 2
   },
   "file_extension": ".py",
   "mimetype": "text/x-python",
   "name": "python",
   "nbconvert_exporter": "python",
   "pygments_lexer": "ipython2",
   "version": "2.7.6"
  }
 },
 "nbformat": 4,
 "nbformat_minor": 5
}
