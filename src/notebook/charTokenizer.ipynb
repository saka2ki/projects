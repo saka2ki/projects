{
 "cells": [
  {
   "metadata": {
    "ExecuteTime": {
     "end_time": "2025-05-08T09:20:14.899454Z",
     "start_time": "2025-05-08T08:54:14.348982Z"
    }
   },
   "cell_type": "code",
   "source": [
    "import src.notebook.path as path\n",
    "from src.notebook.charTokenizer import CharTokenizer\n",
    "\n",
    "tokenizer = CharTokenizer()\n",
    "with open(path.wiki, 'r', encoding='utf-8') as f:\n",
    "    for text in f:\n",
    "        tokenizer.build_vocab(text)\n",
    "\n",
    "print(tokenizer.vocab_size)"
   ],
   "id": "f7830605a34910bb",
   "outputs": [
    {
     "name": "stdout",
     "output_type": "stream",
     "text": [
      "22163\n"
     ]
    }
   ],
   "execution_count": 7
  },
  {
   "metadata": {
    "ExecuteTime": {
     "end_time": "2025-05-08T09:20:14.978813Z",
     "start_time": "2025-05-08T09:20:14.946982Z"
    }
   },
   "cell_type": "code",
   "source": [
    "import json\n",
    "with open(path.charTokenizer, 'w', encoding='utf-8') as f:\n",
    "    json.dump(tokenizer.vocab, f, ensure_ascii=False)"
   ],
   "id": "8834a47f6d3dc58",
   "outputs": [],
   "execution_count": 8
  }
 ],
 "metadata": {
  "kernelspec": {
   "display_name": "Python 3",
   "language": "python",
   "name": "python3"
  },
  "language_info": {
   "codemirror_mode": {
    "name": "ipython",
    "version": 2
   },
   "file_extension": ".py",
   "mimetype": "text/x-python",
   "name": "python",
   "nbconvert_exporter": "python",
   "pygments_lexer": "ipython2",
   "version": "2.7.6"
  }
 },
 "nbformat": 4,
 "nbformat_minor": 5
}
