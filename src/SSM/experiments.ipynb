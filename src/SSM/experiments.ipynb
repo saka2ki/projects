{
 "cells": [
  {
   "cell_type": "code",
   "execution_count": null,
   "id": "7202681a-aaa5-49d7-946d-2674129ec312",
   "metadata": {},
   "outputs": [],
   "source": [
    "from functools import partial\n",
    "import jax\n",
    "import jax.numpy as np\n",
    "from flax import linen as nn\n",
    "from jax.nn.initializers import lecun_normal, normal\n",
    "from jax.numpy.linalg import eigh, inv, matrix_power\n",
    "from jax.scipy.signal import convolve\n",
    "\n",
    "from S4 import *\n",
    "rng = jax.random.PRNGKey(1)"
   ]
  },
  {
   "cell_type": "code",
   "execution_count": null,
   "id": "11627ee2-6e8c-4eb6-9176-a8aad7820d21",
   "metadata": {},
   "outputs": [],
   "source": [
    "S4Layer = cloneLayer(S4Layer)"
   ]
  },
  {
   "cell_type": "code",
   "execution_count": null,
   "id": "9c71cc9a-fa5c-451b-8be5-60af87132066",
   "metadata": {},
   "outputs": [],
   "source": [
    "model = S4Layer(N=512, l_max=6)"
   ]
  },
  {
   "cell_type": "code",
   "execution_count": null,
   "id": "dc54520e-a50c-494f-9fd4-531c2ff5b80c",
   "metadata": {},
   "outputs": [],
   "source": []
  }
 ],
 "metadata": {
  "kernelspec": {
   "display_name": "Python 3 (ipykernel)",
   "language": "python",
   "name": "python3"
  },
  "language_info": {
   "codemirror_mode": {
    "name": "ipython",
    "version": 3
   },
   "file_extension": ".py",
   "mimetype": "text/x-python",
   "name": "python",
   "nbconvert_exporter": "python",
   "pygments_lexer": "ipython3",
   "version": "3.12.10"
  }
 },
 "nbformat": 4,
 "nbformat_minor": 5
}
