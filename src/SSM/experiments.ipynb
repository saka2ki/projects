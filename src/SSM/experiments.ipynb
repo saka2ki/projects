{
 "cells": [
  {
   "cell_type": "code",
   "execution_count": 1,
   "id": "7202681a-aaa5-49d7-946d-2674129ec312",
   "metadata": {},
   "outputs": [],
   "source": [
    "import torch\n",
    "import torch.nn as nn\n",
    "import torch.optim as optim\n",
    "from torchvision import datasets, transforms\n",
    "from torch.utils.data import DataLoader\n",
    "from tqdm.notebook import tqdm\n",
    "import wandb\n",
    "\n",
    "from ssm import *\n",
    "from S4 import *"
   ]
  },
  {
   "cell_type": "code",
   "execution_count": 2,
   "id": "0f55c8b1-4a9d-4373-b9d6-947cbe8d6b51",
   "metadata": {},
   "outputs": [],
   "source": [
    "S4Layer = cloneLayer(S4Layer)"
   ]
  },
  {
   "cell_type": "code",
   "execution_count": null,
   "id": "9698670b-3b42-46c3-8c14-70617fb6cf29",
   "metadata": {},
   "outputs": [],
   "source": []
  }
 ],
 "metadata": {
  "kernelspec": {
   "display_name": "Python 3 (ipykernel)",
   "language": "python",
   "name": "python3"
  },
  "language_info": {
   "codemirror_mode": {
    "name": "ipython",
    "version": 3
   },
   "file_extension": ".py",
   "mimetype": "text/x-python",
   "name": "python",
   "nbconvert_exporter": "python",
   "pygments_lexer": "ipython3",
   "version": "3.10.13"
  }
 },
 "nbformat": 4,
 "nbformat_minor": 5
}
