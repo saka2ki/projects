{
 "cells": [
  {
   "cell_type": "code",
   "execution_count": 1,
   "id": "6abec5e2-2cb8-4c15-83d5-704858b2f978",
   "metadata": {},
   "outputs": [],
   "source": [
    "from functools import partial\n",
    "import jax\n",
    "import jax.numpy as np\n",
    "from flax import linen as nn\n",
    "from jax.nn.initializers import lecun_normal, normal\n",
    "from jax.numpy.linalg import eigh, inv, matrix_power\n",
    "from jax.scipy.signal import convolve\n",
    "\n",
    "from ssm import *\n",
    "rng = jax.random.PRNGKey(1)"
   ]
  },
  {
   "cell_type": "code",
   "execution_count": 2,
   "id": "379eb608-4cc6-434d-ba43-fc8c168c93d3",
   "metadata": {},
   "outputs": [],
   "source": [
    "def test_gen_inverse(L=16, N=4):\n",
    "    ssm = random_SSM(rng, N)\n",
    "    ssm = discretize(*ssm, 1.0 / L)\n",
    "    b = K_conv(*ssm, L=L)"
   ]
  },
  {
   "cell_type": "code",
   "execution_count": 3,
   "id": "ab122653-bb4d-4640-8fdd-f0b4b196df6c",
   "metadata": {},
   "outputs": [],
   "source": [
    "def test_gen_dplr(L=16, N=4):\n",
    "    I = np.eye(4)"
   ]
  },
  {
   "cell_type": "code",
   "execution_count": 4,
   "id": "31979f26-9688-4bd8-aa00-72fa5ad4642c",
   "metadata": {},
   "outputs": [],
   "source": [
    "def test_nplr(N=8):\n",
    "    A2, P, B = make_NPLR_HiPPO(N)\n",
    "    Lambda, Pc, Bc, V = make_DPLR_HiPPO(N)\n",
    "    Vc = V.conj().T\n",
    "    P = P[:, np.newaxis]\n",
    "    Pc = Pc[:, np.newaxis]\n",
    "    Lambda = np.diag(Lambda)\n",
    "\n",
    "    A3 = V @ Lambda @ Vc - (P @ P.T)  # Test NPLR\n",
    "    A4 = V @ (Lambda - Pc @ Pc.conj().T) @ Vc  # Test DPLR\n",
    "\n",
    "    assert np.allclose(A2, A3, atol=1e-4, rtol=1e-4)\n",
    "    assert np.allclose(A2, A4, atol=1e-4, rtol=1e-4)"
   ]
  },
  {
   "cell_type": "code",
   "execution_count": 5,
   "id": "74439e18-6f5e-40a8-9be6-a39d927f2ffc",
   "metadata": {},
   "outputs": [],
   "source": [
    "def test_conversion(N=8, L=16):\n",
    "    step = 1.0 / L\n",
    "    # Compute a HiPPO NPLR matrix.\n",
    "    Lambda, P, B, _ = make_DPLR_HiPPO(N)\n",
    "    # Random complex Ct\n",
    "    C = normal(dtype=np.complex64)(rng, (N,))\n",
    "\n",
    "    # CNN form.\n",
    "    K = kernel_DPLR(Lambda, P, P, B, C, step, L)\n",
    "\n",
    "    # RNN form.\n",
    "    Ab, Bb, Cb = discrete_DPLR(Lambda, P, P, B, C, step, L)\n",
    "    K2 = K_conv(Ab, Bb, Cb, L=L)\n",
    "    assert np.allclose(K.real, K2.real, atol=1e-5, rtol=1e-5)\n",
    "\n",
    "    # Apply CNN\n",
    "    u = np.arange(L) * 1.0\n",
    "    y1 = causal_convolution(u, K.real)\n",
    "\n",
    "    # Apply RNN\n",
    "    _, y2 = scan_SSM(\n",
    "        Ab, Bb, Cb, u[:, np.newaxis], np.zeros((N,)).astype(np.complex64)\n",
    "    )\n",
    "    assert np.allclose(y1, y2.reshape(-1).real, atol=1e-4, rtol=1e-4)"
   ]
  },
  {
   "cell_type": "code",
   "execution_count": 6,
   "id": "1d4922c3-884f-4db7-b49f-de6895a4fbb0",
   "metadata": {},
   "outputs": [],
   "source": [
    "test_gen_inverse()"
   ]
  },
  {
   "cell_type": "code",
   "execution_count": 7,
   "id": "b6808b7d-119a-4f85-aa68-3de1b07e4170",
   "metadata": {},
   "outputs": [],
   "source": [
    "test_gen_dplr()"
   ]
  },
  {
   "cell_type": "code",
   "execution_count": 8,
   "id": "3c62634c-19b4-4a42-b552-f26d2ae3e000",
   "metadata": {},
   "outputs": [
    {
     "ename": "AssertionError",
     "evalue": "",
     "output_type": "error",
     "traceback": [
      "\u001b[0;31m---------------------------------------------------------------------------\u001b[0m",
      "\u001b[0;31mAssertionError\u001b[0m                            Traceback (most recent call last)",
      "Cell \u001b[0;32mIn[8], line 1\u001b[0m\n\u001b[0;32m----> 1\u001b[0m \u001b[43mtest_nplr\u001b[49m\u001b[43m(\u001b[49m\u001b[43m)\u001b[49m\n",
      "Cell \u001b[0;32mIn[4], line 12\u001b[0m, in \u001b[0;36mtest_nplr\u001b[0;34m(N)\u001b[0m\n\u001b[1;32m      9\u001b[0m A3 \u001b[38;5;241m=\u001b[39m V \u001b[38;5;241m@\u001b[39m Lambda \u001b[38;5;241m@\u001b[39m Vc \u001b[38;5;241m-\u001b[39m (P \u001b[38;5;241m@\u001b[39m P\u001b[38;5;241m.\u001b[39mT)  \u001b[38;5;66;03m# Test NPLR\u001b[39;00m\n\u001b[1;32m     10\u001b[0m A4 \u001b[38;5;241m=\u001b[39m V \u001b[38;5;241m@\u001b[39m (Lambda \u001b[38;5;241m-\u001b[39m Pc \u001b[38;5;241m@\u001b[39m Pc\u001b[38;5;241m.\u001b[39mconj()\u001b[38;5;241m.\u001b[39mT) \u001b[38;5;241m@\u001b[39m Vc  \u001b[38;5;66;03m# Test DPLR\u001b[39;00m\n\u001b[0;32m---> 12\u001b[0m \u001b[38;5;28;01massert\u001b[39;00m np\u001b[38;5;241m.\u001b[39mallclose(A2, A3, atol\u001b[38;5;241m=\u001b[39m\u001b[38;5;241m1e-4\u001b[39m, rtol\u001b[38;5;241m=\u001b[39m\u001b[38;5;241m1e-4\u001b[39m)\n\u001b[1;32m     13\u001b[0m \u001b[38;5;28;01massert\u001b[39;00m np\u001b[38;5;241m.\u001b[39mallclose(A2, A4, atol\u001b[38;5;241m=\u001b[39m\u001b[38;5;241m1e-4\u001b[39m, rtol\u001b[38;5;241m=\u001b[39m\u001b[38;5;241m1e-4\u001b[39m)\n",
      "\u001b[0;31mAssertionError\u001b[0m: "
     ]
    }
   ],
   "source": [
    "test_nplr()"
   ]
  },
  {
   "cell_type": "code",
   "execution_count": null,
   "id": "34f27d5f-bc12-424c-a476-762f604aed5f",
   "metadata": {},
   "outputs": [],
   "source": [
    "test_conversion()"
   ]
  },
  {
   "cell_type": "code",
   "execution_count": null,
   "id": "fa0bfa4e-1d69-4dbb-87a8-5df12994653a",
   "metadata": {},
   "outputs": [],
   "source": []
  }
 ],
 "metadata": {
  "kernelspec": {
   "display_name": "Python 3 (ipykernel)",
   "language": "python",
   "name": "python3"
  },
  "language_info": {
   "codemirror_mode": {
    "name": "ipython",
    "version": 3
   },
   "file_extension": ".py",
   "mimetype": "text/x-python",
   "name": "python",
   "nbconvert_exporter": "python",
   "pygments_lexer": "ipython3",
   "version": "3.10.13"
  }
 },
 "nbformat": 4,
 "nbformat_minor": 5
}
